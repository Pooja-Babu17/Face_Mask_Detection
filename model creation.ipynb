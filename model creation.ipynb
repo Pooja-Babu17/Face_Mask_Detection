{
 "cells": [
  {
   "cell_type": "code",
   "execution_count": 3,
   "id": "86f4bb28",
   "metadata": {},
   "outputs": [
    {
     "name": "stderr",
     "output_type": "stream",
     "text": [
      "D:\\ANACONDA\\ANA\\envs\\aiworks\\lib\\site-packages\\numpy\\_distributor_init.py:32: UserWarning: loaded more than 1 DLL from .libs:\n",
      "D:\\ANACONDA\\ANA\\envs\\aiworks\\lib\\site-packages\\numpy\\.libs\\libopenblas.WCDJNK7YVMPZQ2ME2ZZHJJRJ3JIKNDB7.gfortran-win_amd64.dll\n",
      "D:\\ANACONDA\\ANA\\envs\\aiworks\\lib\\site-packages\\numpy\\.libs\\libopenblas.XWYDX2IKJW2NMTWSFYNGFUWKQU3LYTCZ.gfortran-win_amd64.dll\n",
      "  stacklevel=1)\n"
     ]
    }
   ],
   "source": [
    "from tensorflow.keras.preprocessing.image import ImageDataGenerator\n",
    "from tensorflow.keras.applications import MobileNetV2\n",
    "from tensorflow.keras.layers import AveragePooling2D\n",
    "from tensorflow.keras.layers import Dropout\n",
    "from tensorflow.keras.layers import Flatten\n",
    "from tensorflow.keras.layers import Dense\n",
    "from tensorflow.keras.layers import Input\n",
    "from tensorflow.keras.models import Model\n",
    "from tensorflow.keras.optimizers import Adam\n",
    "from tensorflow.keras.applications.mobilenet_v2 import preprocess_input\n",
    "from tensorflow.keras.preprocessing.image import img_to_array\n",
    "from tensorflow.keras.preprocessing.image import load_img\n",
    "from tensorflow.keras.utils import to_categorical\n",
    "from sklearn.preprocessing import LabelBinarizer\n",
    "from sklearn.model_selection import train_test_split\n",
    "from sklearn.metrics import classification_report\n",
    "from imutils import paths\n",
    "import matplotlib.pyplot as plt\n",
    "import numpy as np\n",
    "import argparse\n",
    "import os"
   ]
  },
  {
   "cell_type": "code",
   "execution_count": 4,
   "id": "1b179851",
   "metadata": {},
   "outputs": [],
   "source": [
    "INIT_LR = 1e-4\n",
    "EPOCHS = 20\n",
    "BS = 32"
   ]
  },
  {
   "cell_type": "code",
   "execution_count": 5,
   "id": "ebd72b1a",
   "metadata": {},
   "outputs": [],
   "source": [
    "DATASET = r\"E:\\1.2.Deeplearning\\dataset\"\n",
    "CATEGORIES = [\"with_mask\", \"without_mask\"]"
   ]
  },
  {
   "cell_type": "code",
   "execution_count": 6,
   "id": "98f2378b",
   "metadata": {},
   "outputs": [
    {
     "name": "stdout",
     "output_type": "stream",
     "text": [
      "[INFO] loading images...\n"
     ]
    }
   ],
   "source": [
    "print(\"[INFO] loading images...\")"
   ]
  },
  {
   "cell_type": "code",
   "execution_count": 7,
   "id": "00e20e32",
   "metadata": {},
   "outputs": [
    {
     "name": "stderr",
     "output_type": "stream",
     "text": [
      "D:\\ANACONDA\\ANA\\envs\\aiworks\\lib\\site-packages\\PIL\\Image.py:993: UserWarning: Palette images with Transparency expressed in bytes should be converted to RGBA images\n",
      "  \"Palette images with Transparency expressed in bytes should be \"\n"
     ]
    }
   ],
   "source": [
    "data = []\n",
    "labels = []\n",
    "\n",
    "for category in CATEGORIES:\n",
    "    path = os.path.join(DATASET, category)\n",
    "    for img in os.listdir(path):\n",
    "        img_path = os.path.join(path, img)\n",
    "        image = load_img(img_path, target_size=(224, 224))\n",
    "        image = img_to_array(image)\n",
    "        image = preprocess_input(image)\n",
    "\n",
    "        data.append(image)\n",
    "        labels.append(category)"
   ]
  },
  {
   "cell_type": "code",
   "execution_count": 8,
   "id": "ab37e4aa",
   "metadata": {},
   "outputs": [],
   "source": [
    "lb = LabelBinarizer()\n",
    "labels = lb.fit_transform(labels)\n",
    "labels = to_categorical(labels)"
   ]
  },
  {
   "cell_type": "code",
   "execution_count": 9,
   "id": "e94c264e",
   "metadata": {},
   "outputs": [],
   "source": [
    "data = np.array(data, dtype=\"float32\")\n",
    "labels = np.array(labels)"
   ]
  },
  {
   "cell_type": "code",
   "execution_count": 10,
   "id": "2aa82176",
   "metadata": {},
   "outputs": [],
   "source": [
    "(trainX, testX, trainY, testY) = train_test_split(data, labels,test_size=0.20, stratify=labels, random_state=42)\n"
   ]
  },
  {
   "cell_type": "code",
   "execution_count": 11,
   "id": "2dbc7da5",
   "metadata": {},
   "outputs": [],
   "source": [
    "aug = ImageDataGenerator(\n",
    "    rotation_range=20,\n",
    "    zoom_range=0.15,\n",
    "    width_shift_range=0.2,\n",
    "    height_shift_range=0.2,\n",
    "    shear_range=0.15,\n",
    "    horizontal_flip=True,\n",
    "    fill_mode=\"nearest\")\n"
   ]
  },
  {
   "cell_type": "code",
   "execution_count": 12,
   "id": "5b0f9b33",
   "metadata": {},
   "outputs": [
    {
     "name": "stdout",
     "output_type": "stream",
     "text": [
      "WARNING:tensorflow:`input_shape` is undefined or non-square, or `rows` is not in [96, 128, 160, 192, 224]. Weights for input shape (224, 224) will be loaded as the default.\n"
     ]
    }
   ],
   "source": [
    "baseModel = MobileNetV2(weights=\"imagenet\", include_top=False,input_tensor=Input(shape=(224, 224, 3)))"
   ]
  },
  {
   "cell_type": "code",
   "execution_count": 13,
   "id": "48b3523f",
   "metadata": {},
   "outputs": [],
   "source": [
    "headModel = baseModel.output\n",
    "headModel = AveragePooling2D(pool_size=(7, 7))(headModel)\n",
    "headModel = Flatten(name=\"flatten\")(headModel)\n",
    "headModel = Dense(128, activation=\"relu\")(headModel)\n",
    "headModel = Dropout(0.5)(headModel)\n",
    "headModel = Dense(2, activation=\"softmax\")(headModel)"
   ]
  },
  {
   "cell_type": "code",
   "execution_count": 14,
   "id": "2d9ad2c0",
   "metadata": {},
   "outputs": [],
   "source": [
    "model = Model(inputs=baseModel.input, outputs=headModel)"
   ]
  },
  {
   "cell_type": "code",
   "execution_count": 15,
   "id": "2c6fd4ef",
   "metadata": {},
   "outputs": [],
   "source": [
    "for layer in baseModel.layers:\n",
    "    layer.trainable = False"
   ]
  },
  {
   "cell_type": "code",
   "execution_count": 17,
   "id": "f23b68b2",
   "metadata": {},
   "outputs": [
    {
     "name": "stdout",
     "output_type": "stream",
     "text": [
      "[INFO] compiling model...\n"
     ]
    }
   ],
   "source": [
    "from tensorflow.keras.optimizers import legacy\n",
    "\n",
    "print(\"[INFO] compiling model...\")\n",
    "opt = legacy.Adam(learning_rate=INIT_LR, decay=INIT_LR / EPOCHS)\n",
    "model.compile(loss=\"binary_crossentropy\", optimizer=opt, metrics=[\"accuracy\"])"
   ]
  },
  {
   "cell_type": "code",
   "execution_count": 19,
   "id": "9074921b",
   "metadata": {},
   "outputs": [
    {
     "name": "stdout",
     "output_type": "stream",
     "text": [
      "[INFO] training head...\n",
      "Epoch 1/20\n",
      "96/96 [==============================] - 640s 6s/step - loss: 0.4223 - accuracy: 0.8426 - val_loss: 0.1834 - val_accuracy: 0.9779\n",
      "Epoch 2/20\n",
      "96/96 [==============================] - 538s 6s/step - loss: 0.1715 - accuracy: 0.9560 - val_loss: 0.0986 - val_accuracy: 0.9831\n",
      "Epoch 3/20\n",
      "96/96 [==============================] - 669s 7s/step - loss: 0.1103 - accuracy: 0.9688 - val_loss: 0.0720 - val_accuracy: 0.9896\n",
      "Epoch 4/20\n",
      "96/96 [==============================] - 619s 6s/step - loss: 0.0806 - accuracy: 0.9767 - val_loss: 0.0600 - val_accuracy: 0.9896\n",
      "Epoch 5/20\n",
      "96/96 [==============================] - 550s 6s/step - loss: 0.0667 - accuracy: 0.9813 - val_loss: 0.0525 - val_accuracy: 0.9896\n",
      "Epoch 6/20\n",
      "96/96 [==============================] - 574s 6s/step - loss: 0.0643 - accuracy: 0.9806 - val_loss: 0.0494 - val_accuracy: 0.9883\n",
      "Epoch 7/20\n",
      "96/96 [==============================] - 518s 5s/step - loss: 0.0622 - accuracy: 0.9829 - val_loss: 0.0493 - val_accuracy: 0.9870\n",
      "Epoch 8/20\n",
      "96/96 [==============================] - 564s 6s/step - loss: 0.0547 - accuracy: 0.9829 - val_loss: 0.0490 - val_accuracy: 0.9870\n",
      "Epoch 9/20\n",
      "96/96 [==============================] - 603s 6s/step - loss: 0.0453 - accuracy: 0.9872 - val_loss: 0.0408 - val_accuracy: 0.9909\n",
      "Epoch 10/20\n",
      "96/96 [==============================] - 510s 5s/step - loss: 0.0482 - accuracy: 0.9875 - val_loss: 0.0436 - val_accuracy: 0.9896\n",
      "Epoch 11/20\n",
      "96/96 [==============================] - 613s 6s/step - loss: 0.0456 - accuracy: 0.9878 - val_loss: 0.0388 - val_accuracy: 0.9909\n",
      "Epoch 12/20\n",
      "96/96 [==============================] - 608s 6s/step - loss: 0.0417 - accuracy: 0.9885 - val_loss: 0.0381 - val_accuracy: 0.9909\n",
      "Epoch 13/20\n",
      "96/96 [==============================] - 557s 6s/step - loss: 0.0358 - accuracy: 0.9888 - val_loss: 0.0388 - val_accuracy: 0.9909\n",
      "Epoch 14/20\n",
      "96/96 [==============================] - 527s 5s/step - loss: 0.0388 - accuracy: 0.9885 - val_loss: 0.0354 - val_accuracy: 0.9909\n",
      "Epoch 15/20\n",
      "96/96 [==============================] - 653s 7s/step - loss: 0.0347 - accuracy: 0.9901 - val_loss: 0.0346 - val_accuracy: 0.9909\n",
      "Epoch 16/20\n",
      "96/96 [==============================] - 531s 5s/step - loss: 0.0394 - accuracy: 0.9878 - val_loss: 0.0348 - val_accuracy: 0.9909\n",
      "Epoch 17/20\n",
      "96/96 [==============================] - 556s 6s/step - loss: 0.0308 - accuracy: 0.9898 - val_loss: 0.0327 - val_accuracy: 0.9909\n",
      "Epoch 18/20\n",
      "96/96 [==============================] - 571s 6s/step - loss: 0.0316 - accuracy: 0.9911 - val_loss: 0.0327 - val_accuracy: 0.9909\n",
      "Epoch 19/20\n",
      "96/96 [==============================] - 500s 5s/step - loss: 0.0309 - accuracy: 0.9911 - val_loss: 0.0356 - val_accuracy: 0.9909\n",
      "Epoch 20/20\n",
      "96/96 [==============================] - 556s 6s/step - loss: 0.0265 - accuracy: 0.9928 - val_loss: 0.0315 - val_accuracy: 0.9922\n"
     ]
    }
   ],
   "source": [
    "print(\"[INFO] training head...\")\n",
    "H = model.fit(\n",
    "    aug.flow(trainX, trainY, batch_size=BS),\n",
    "    steps_per_epoch=len(trainX) // BS,\n",
    "    validation_data=(testX, testY),\n",
    "    validation_steps=len(testX) // BS,\n",
    "    epochs=EPOCHS)"
   ]
  },
  {
   "cell_type": "code",
   "execution_count": 20,
   "id": "edddd774",
   "metadata": {},
   "outputs": [
    {
     "name": "stdout",
     "output_type": "stream",
     "text": [
      "[INFO] evaluating network...\n",
      "25/25 [==============================] - 95s 2s/step\n",
      "              precision    recall  f1-score   support\n",
      "\n",
      "   with_mask       0.99      0.99      0.99       384\n",
      "without_mask       0.99      0.99      0.99       386\n",
      "\n",
      "    accuracy                           0.99       770\n",
      "   macro avg       0.99      0.99      0.99       770\n",
      "weighted avg       0.99      0.99      0.99       770\n",
      "\n",
      "[INFO] saving mask detector model...\n"
     ]
    }
   ],
   "source": [
    "print(\"[INFO] evaluating network...\")\n",
    "predIdxs = model.predict(testX, batch_size=BS)\n",
    "\n",
    "predIdxs = np.argmax(predIdxs, axis=1)\n",
    "\n",
    "   \n",
    "print(classification_report(testY.argmax(axis=1), predIdxs,target_names=lb.classes_))\n",
    "\n",
    " \n",
    "print(\"[INFO] saving mask detector model...\")\n",
    "model.save(\"mask_detector.model\", save_format=\"h5\")"
   ]
  },
  {
   "cell_type": "code",
   "execution_count": 21,
   "id": "817bcf4d",
   "metadata": {},
   "outputs": [
    {
     "data": {
      "image/png": "[encoded data removed]",
      "text/plain": [
       "<Figure size 640x480 with 1 Axes>"
      ]
     },
     "metadata": {},
     "output_type": "display_data"
    }
   ],
   "source": [
    "N = EPOCHS\n",
    "plt.style.use(\"ggplot\")\n",
    "plt.figure()\n",
    "plt.plot(np.arange(0, N), H.history[\"loss\"], label=\"train_loss\")\n",
    "plt.plot(np.arange(0, N), H.history[\"val_loss\"], label=\"val_loss\")\n",
    "plt.plot(np.arange(0, N), H.history[\"accuracy\"], label=\"train_acc\")\n",
    "plt.plot(np.arange(0, N), H.history[\"val_accuracy\"], label=\"val_acc\")\n",
    "plt.title(\"Training Loss and Accuracy\")\n",
    "plt.xlabel(\"Epoch #\")\n",
    "plt.ylabel(\"Loss/Accuracy\")\n",
    "plt.legend(loc=\"lower left\")\n",
    "plt.savefig(\"plot.png\")"
   ]
  },
  {
   "cell_type": "code",
   "execution_count": null,
   "id": "8a31d167",
   "metadata": {},
   "outputs": [],
   "source": []
  },
  {
   "cell_type": "code",
   "execution_count": null,
   "id": "03afcf50",
   "metadata": {
    "collapsed": true
   },
   "outputs": [],
   "source": []
  }
 ],
 "metadata": {
  "kernelspec": {
   "display_name": "Python 3 (ipykernel)",
   "language": "python",
   "name": "python3"
  },
  "language_info": {
   "codemirror_mode": {
    "name": "ipython",
    "version": 3
   },
   "file_extension": ".py",
   "mimetype": "text/x-python",
   "name": "python",
   "nbconvert_exporter": "python",
   "pygments_lexer": "ipython3",
   "version": "3.7.6"
  }
 },
 "nbformat": 4,
 "nbformat_minor": 5
}
